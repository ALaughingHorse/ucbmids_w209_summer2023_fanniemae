{
 "cells": [
  {
   "cell_type": "code",
   "execution_count": 1,
   "metadata": {},
   "outputs": [],
   "source": [
    "from src.dlq_risk_calculation import LoanDlqRisks\n",
    "import pandas as pd\n",
    "import numpy as np\n",
    "import pickle\n",
    "import altair as alt"
   ]
  },
  {
   "cell_type": "code",
   "execution_count": 13,
   "metadata": {},
   "outputs": [],
   "source": [
    "df = pd.read_csv('dashcomponents/loan_data.csv')\n",
    "with open('dashcomponents/weights.pkl', 'rb') as file:\n",
    "    weights = pickle.load(file)"
   ]
  },
  {
   "cell_type": "code",
   "execution_count": 14,
   "metadata": {},
   "outputs": [],
   "source": [
    "df['Zip Code Short'] = df['Zip Code Short'].fillna(0).astype(int).astype(str)"
   ]
  },
  {
   "cell_type": "code",
   "execution_count": 15,
   "metadata": {},
   "outputs": [],
   "source": [
    "interest_rate = 2\n",
    "total_loan_amount=10000\n",
    "loan_to_value=25\n",
    "fico_score=780\n",
    "dti_ratio=55\n",
    "zipcode=0"
   ]
  },
  {
   "cell_type": "code",
   "execution_count": 16,
   "metadata": {},
   "outputs": [
    {
     "name": "stdout",
     "output_type": "stream",
     "text": [
      "Too few samples for zipcode starting 0, using all data instead\n"
     ]
    },
    {
     "name": "stderr",
     "output_type": "stream",
     "text": [
      "/Users/xiaoma/Desktop/gitrepo/ucbmids_w209_summer2023_fanniemae/fannie-mae-viewer/src/dlq_risk_calculation.py:133: SettingWithCopyWarning: \n",
      "A value is trying to be set on a copy of a slice from a DataFrame.\n",
      "Try using .loc[row_indexer,col_indexer] = value instead\n",
      "\n",
      "See the caveats in the documentation: https://pandas.pydata.org/pandas-docs/stable/user_guide/indexing.html#returning-a-view-versus-a-copy\n",
      "  temp_plottb['value_direc'] = temp_plottb['values'].apply(lambda x: 'high' if x>0 else 'low')\n",
      "/Users/xiaoma/Desktop/gitrepo/ucbmids_w209_summer2023_fanniemae/fannie-mae-viewer/src/dlq_risk_calculation.py:134: SettingWithCopyWarning: \n",
      "A value is trying to be set on a copy of a slice from a DataFrame.\n",
      "Try using .loc[row_indexer,col_indexer] = value instead\n",
      "\n",
      "See the caveats in the documentation: https://pandas.pydata.org/pandas-docs/stable/user_guide/indexing.html#returning-a-view-versus-a-copy\n",
      "  temp_plottb['des'] = temp_plottb['value_direc'] + ' ' + temp_plottb['labels']\n"
     ]
    }
   ],
   "source": [
    "dlqr = LoanDlqRisks(\n",
    "            interest_rate,\n",
    "            total_loan_amount,\n",
    "            loan_to_value,\n",
    "            fico_score,\n",
    "            dti_ratio,\n",
    "            zipcode\n",
    "        ).get_relative_stats(ref_table=df).generate_risk_summary(weight_params=weights)"
   ]
  },
  {
   "cell_type": "code",
   "execution_count": 17,
   "metadata": {},
   "outputs": [
    {
     "data": {
      "text/html": [
       "\n",
       "<style>\n",
       "  #altair-viz-4f9b4fdf3a12435ab2b20e9333b15f76.vega-embed {\n",
       "    width: 100%;\n",
       "    display: flex;\n",
       "  }\n",
       "\n",
       "  #altair-viz-4f9b4fdf3a12435ab2b20e9333b15f76.vega-embed details,\n",
       "  #altair-viz-4f9b4fdf3a12435ab2b20e9333b15f76.vega-embed details summary {\n",
       "    position: relative;\n",
       "  }\n",
       "</style>\n",
       "<div id=\"altair-viz-4f9b4fdf3a12435ab2b20e9333b15f76\"></div>\n",
       "<script type=\"text/javascript\">\n",
       "  var VEGA_DEBUG = (typeof VEGA_DEBUG == \"undefined\") ? {} : VEGA_DEBUG;\n",
       "  (function(spec, embedOpt){\n",
       "    let outputDiv = document.currentScript.previousElementSibling;\n",
       "    if (outputDiv.id !== \"altair-viz-4f9b4fdf3a12435ab2b20e9333b15f76\") {\n",
       "      outputDiv = document.getElementById(\"altair-viz-4f9b4fdf3a12435ab2b20e9333b15f76\");\n",
       "    }\n",
       "    const paths = {\n",
       "      \"vega\": \"https://cdn.jsdelivr.net/npm/vega@5?noext\",\n",
       "      \"vega-lib\": \"https://cdn.jsdelivr.net/npm/vega-lib?noext\",\n",
       "      \"vega-lite\": \"https://cdn.jsdelivr.net/npm/vega-lite@5.8.0?noext\",\n",
       "      \"vega-embed\": \"https://cdn.jsdelivr.net/npm/vega-embed@6?noext\",\n",
       "    };\n",
       "\n",
       "    function maybeLoadScript(lib, version) {\n",
       "      var key = `${lib.replace(\"-\", \"\")}_version`;\n",
       "      return (VEGA_DEBUG[key] == version) ?\n",
       "        Promise.resolve(paths[lib]) :\n",
       "        new Promise(function(resolve, reject) {\n",
       "          var s = document.createElement('script');\n",
       "          document.getElementsByTagName(\"head\")[0].appendChild(s);\n",
       "          s.async = true;\n",
       "          s.onload = () => {\n",
       "            VEGA_DEBUG[key] = version;\n",
       "            return resolve(paths[lib]);\n",
       "          };\n",
       "          s.onerror = () => reject(`Error loading script: ${paths[lib]}`);\n",
       "          s.src = paths[lib];\n",
       "        });\n",
       "    }\n",
       "\n",
       "    function showError(err) {\n",
       "      outputDiv.innerHTML = `<div class=\"error\" style=\"color:red;\">${err}</div>`;\n",
       "      throw err;\n",
       "    }\n",
       "\n",
       "    function displayChart(vegaEmbed) {\n",
       "      vegaEmbed(outputDiv, spec, embedOpt)\n",
       "        .catch(err => showError(`Javascript Error: ${err.message}<br>This usually means there's a typo in your chart specification. See the javascript console for the full traceback.`));\n",
       "    }\n",
       "\n",
       "    if(typeof define === \"function\" && define.amd) {\n",
       "      requirejs.config({paths});\n",
       "      require([\"vega-embed\"], displayChart, err => showError(`Error loading script: ${err.message}`));\n",
       "    } else {\n",
       "      maybeLoadScript(\"vega\", \"5\")\n",
       "        .then(() => maybeLoadScript(\"vega-lite\", \"5.8.0\"))\n",
       "        .then(() => maybeLoadScript(\"vega-embed\", \"6\"))\n",
       "        .catch(showError)\n",
       "        .then(() => displayChart(vegaEmbed));\n",
       "    }\n",
       "  })({\"config\": {\"view\": {\"continuousWidth\": 300, \"continuousHeight\": 300}}, \"vconcat\": [{\"data\": {\"name\": \"data-f8d1392fd045e4ac791251c19e11767f\"}, \"mark\": {\"type\": \"circle\", \"size\": 120}, \"encoding\": {\"x\": {\"axis\": {\"labelExpr\": \"\\n            datum.value == -1 ? '<-------------- Very Safe -------------->' : \\n            datum.value == -0.5 ? '<---------------- Safe ---------------->' : \\n            datum.value == 0 ? '<------------ Moderate ------------>':\\n            datum.value == 0.5 ? '<--------------- Risky --------------->':\\n            datum.value == 1 ? '<------------ Very Risky ------------>'\\n            :''\\n            \", \"values\": [-1.25, -1, -0.75, -0.5, -0.25, 0, 0.25, 0.5, 0.75, 1, 1.25]}, \"field\": \"x\", \"scale\": {\"domain\": [-1.25, 1.25]}, \"title\": \"Risk Level\", \"type\": \"quantitative\"}, \"y\": {\"axis\": {\"labels\": false}, \"field\": \"y\", \"scale\": {\"domain\": [-0.01, 0.01]}, \"title\": \"\", \"type\": \"quantitative\"}}, \"height\": 25, \"width\": 800}, {\"data\": {\"name\": \"data-130f5686e37cf1368bf96751a5eda972\"}, \"mark\": {\"type\": \"bar\"}, \"encoding\": {\"color\": {\"condition\": {\"test\": \"datum.directions\", \"value\": \"green\"}, \"value\": \"red\"}, \"x\": {\"axis\": {\"labelAngle\": 0}, \"field\": \"labels\", \"title\": \"Loan Attributes\", \"type\": \"nominal\"}, \"y\": {\"axis\": {\"format\": \"%\"}, \"field\": \"values\", \"scale\": {\"domain\": [-1, 1]}, \"title\": \"Percentage Delta Vs Area Average\", \"type\": \"quantitative\"}}, \"height\": 300, \"title\": {\"text\": \"Why is this loan catagorized as Very Risky?\", \"subtitle\": [\"\\n            This loan is rated as Very Risky because it has low Loan Amount, low LTV, high DTI comparing to loans from the same area\\n            \"]}, \"width\": 800}], \"$schema\": \"https://vega.github.io/schema/vega-lite/v5.8.0.json\", \"datasets\": {\"data-f8d1392fd045e4ac791251c19e11767f\": [{\"x\": 2.6031374344183567, \"y\": 0}], \"data-130f5686e37cf1368bf96751a5eda972\": [{\"labels\": \"Loan Amount\", \"values\": -0.9588323131649057, \"directions\": false}, {\"labels\": \"LTV\", \"values\": -0.7286146658505138, \"directions\": false}, {\"labels\": \"DTI\", \"values\": 0.6005541650338426, \"directions\": false}]}}, {\"mode\": \"vega-lite\"});\n",
       "</script>"
      ],
      "text/plain": [
       "alt.VConcatChart(...)"
      ]
     },
     "execution_count": 17,
     "metadata": {},
     "output_type": "execute_result"
    }
   ],
   "source": [
    "dlqr.combined"
   ]
  },
  {
   "cell_type": "code",
   "execution_count": null,
   "metadata": {},
   "outputs": [],
   "source": [
    "if dlqr.risk_score<0:\n",
    "    temp_plottb = dlqr.plot_tb[dlqr.plot_tb.directions==True]\n",
    "    temp_plottb['value_direc'] = temp_plottb['values'].apply(lambda x: 'high' if x>0 else 'low') \n",
    "    temp_plottb['des'] = temp_plottb['value_direc'] + ' ' + temp_plottb['labels']\n",
    "    description_str = ', '.join(temp_plottb['des'].values)\n",
    "    subtitle = f\"\"\"\n",
    "    This loan is rated as {dlqr.risk_cat} because it has {description_str} comparing to loans from the same area\n",
    "    \"\"\"\n",
    "else:\n",
    "    temp_plottb = dlqr.plot_tb[dlqr.plot_tb.directions==False]\n",
    "    temp_plottb['value_direc'] = temp_plottb['values'].apply(lambda x: 'high' if x>0 else 'low') \n",
    "    temp_plottb['des'] = temp_plottb['value_direc'] + ' ' + temp_plottb['labels']\n",
    "    description_str = ', '.join(temp_plottb['des'].values)\n",
    "    subtitle = f\"\"\"\n",
    "    This loan is rated as {dlqr.risk_cat} because it has {description_str} comparing to loans from the same area\n",
    "    \"\"\""
   ]
  },
  {
   "cell_type": "code",
   "execution_count": null,
   "metadata": {},
   "outputs": [],
   "source": [
    "chart_title = alt.TitleParams(\n",
    "    f\"Why is this loan catagorized as {dlqr.risk_cat}?\",\n",
    "    subtitle=[subtitle],\n",
    ")\n",
    "\n",
    "diag = alt.Chart(\n",
    "    dlqr.plot_tb[dlqr.plot_tb.directions==(dlqr.risk_score<0)], title=chart_title\n",
    ").mark_bar(\n",
    ").encode(\n",
    "    x=alt.X('labels', \n",
    "            title='Loan Attributes',\n",
    "            axis=alt.Axis(labelAngle=0)\n",
    "    ),\n",
    "    y=alt.Y(\n",
    "        'values:Q', \n",
    "        title='Percentage Delta Vs Area Average',\n",
    "        axis=alt.Axis(format='%'),\n",
    "        scale=alt.Scale(domain=[-1,1])\n",
    "    ),\n",
    "    color=alt.condition(\n",
    "        alt.datum.directions,\n",
    "        alt.value(\"green\"),  # The positive color\n",
    "        alt.value(\"red\")  # The negative color\n",
    "    )\n",
    ").properties(\n",
    "    width=800,\n",
    "    height=300\n",
    ")"
   ]
  },
  {
   "cell_type": "code",
   "execution_count": null,
   "metadata": {},
   "outputs": [],
   "source": [
    "dlqr.risk_score_scale_chart"
   ]
  },
  {
   "cell_type": "code",
   "execution_count": null,
   "metadata": {},
   "outputs": [],
   "source": [
    "alt.vconcat(dlqr.risk_score_scale_chart, diag)"
   ]
  },
  {
   "cell_type": "code",
   "execution_count": null,
   "metadata": {},
   "outputs": [],
   "source": []
  }
 ],
 "metadata": {
  "kernelspec": {
   "display_name": "ds209",
   "language": "python",
   "name": "ds209"
  },
  "language_info": {
   "codemirror_mode": {
    "name": "ipython",
    "version": 3
   },
   "file_extension": ".py",
   "mimetype": "text/x-python",
   "name": "python",
   "nbconvert_exporter": "python",
   "pygments_lexer": "ipython3",
   "version": "3.11.4"
  }
 },
 "nbformat": 4,
 "nbformat_minor": 2
}
