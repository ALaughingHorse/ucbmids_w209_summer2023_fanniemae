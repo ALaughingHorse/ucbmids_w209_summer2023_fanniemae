{
 "cells": [
  {
   "cell_type": "code",
   "execution_count": 1,
   "metadata": {},
   "outputs": [],
   "source": [
    "import pandas as pd \n",
    "import altair as alt\n",
    "import panel as pn\n",
    "import numpy as np\n",
    "from sklearn.linear_model import LogisticRegression\n",
    "import pickle\n",
    "from sqlalchemy import URL, create_engine, text\n",
    "alt.data_transformers.disable_max_rows()\n",
    "\n",
    "hostname = 'database-3.cluster-cgldqbnitk50.us-east-1.rds.amazonaws.com'\n",
    "username = 'postgres'\n",
    "password = 'cas_analytics'\n",
    "database = 'postgres'\n",
    "\n",
    "url_object = URL.create(\n",
    "    \"postgresql\",\n",
    "    username=username,\n",
    "    password=password,  # plain (unescaped) text\n",
    "    host=hostname,\n",
    "    database=database,\n",
    ")\n",
    "\n",
    "engine = create_engine(url_object)"
   ]
  },
  {
   "cell_type": "code",
   "execution_count": 2,
   "metadata": {},
   "outputs": [],
   "source": [
    "# cols = [\n",
    "#     'Monthly Reporting Period',\n",
    "#     'Loan Identifier',\n",
    "#     'Reference Pool ID',\n",
    "#     'Loan Identifier',\n",
    "#     'Original Interest Rate',\n",
    "#     'Current Interest Rate',\n",
    "#     'Original UPB',\n",
    "#     'Current Actual UPB',\n",
    "#     'Loan Age',\n",
    "#     'Original Loan to Value Ratio (LTV)',\n",
    "#     'Original Combined Loan to Value Ratio (CLTV)',\n",
    "#     'Borrower Credit Score At Issuance',\n",
    "#     'Borrower Credit Score Current ',\n",
    "#     'Debt-To-Income (DTI)',\n",
    "#     'UPB at the Time of Removal',\n",
    "#     'Repurchase Date',\n",
    "#     'Zero Balance Code',\n",
    "#     'Zero Balance Effective Date',\n",
    "#     'Zero Balance Code Change Date',\n",
    "#     'Scheduled Principal Current',\n",
    "#     'Total Principal Current',\n",
    "#     'Unscheduled Principal Current',\n",
    "#     'Zip Code Short',\n",
    "#     'Property State',\n",
    "#     'Current Loan Delinquency Status'\n",
    "# ]\n",
    "\n",
    "cols = [\n",
    "    'Loan Identifier',\n",
    "    'Monthly Reporting Period',\n",
    "    'Original Interest Rate',\n",
    "    'Original UPB',\n",
    "    'Original Loan to Value Ratio (LTV)',\n",
    "    'Original Combined Loan to Value Ratio (CLTV)',\n",
    "    'Borrower Credit Score At Issuance',\n",
    "    'Debt-To-Income (DTI)',\n",
    "    'Zip Code Short',\n",
    "    'Property State',\n",
    "    'Current Loan Delinquency Status'\n",
    "]\n",
    "\n",
    "query = f\"\"\"\n",
    "WITH loan_stats AS (\n",
    "    SELECT \n",
    "        \"Loan Identifier\",\n",
    "        \"Original Interest Rate\",\n",
    "        \"Original UPB\",\n",
    "        \"Original Loan to Value Ratio (LTV)\",\n",
    "        \"Original Combined Loan to Value Ratio (CLTV)\",\n",
    "        \"Borrower Credit Score At Issuance\",\n",
    "        \"Debt-To-Income (DTI)\",\n",
    "        \"Zip Code Short\",\n",
    "        ROUND(\n",
    "            1.0*SUM(CASE WHEN \"Current Loan Delinquency Status\" > 0 THEN 1 ELSE 0 END)/COUNT(\"Monthly Reporting Period\"),\n",
    "        2\n",
    "        ) AS pct_dlq_marks\n",
    "    FROM Cas.ref  \n",
    "    GROUP BY \n",
    "        \"Loan Identifier\",\n",
    "        \"Original Interest Rate\",\n",
    "        \"Original UPB\",\n",
    "        \"Original Loan to Value Ratio (LTV)\",\n",
    "        \"Original Combined Loan to Value Ratio (CLTV)\",\n",
    "        \"Borrower Credit Score At Issuance\",\n",
    "        \"Debt-To-Income (DTI)\",\n",
    "        \"Zip Code Short\"\n",
    ")\n",
    "\n",
    "SELECT * FROM loan_stats\n",
    "\"\"\"\n",
    "\n",
    "df = pd.DataFrame(engine.connect().execute(text(query)))"
   ]
  },
  {
   "cell_type": "code",
   "execution_count": 3,
   "metadata": {},
   "outputs": [],
   "source": [
    "df['dlq_flag'] = df.pct_dlq_marks > 0\n",
    "df.pct_dlq_marks = df.pct_dlq_marks.astype(float)"
   ]
  },
  {
   "cell_type": "code",
   "execution_count": 4,
   "metadata": {},
   "outputs": [],
   "source": [
    "df.fillna(-1, inplace=True)"
   ]
  },
  {
   "cell_type": "markdown",
   "metadata": {},
   "source": [
    "Next Steps:\n",
    "1. Build a logistic regression model to get the cofficients of all the variables\n",
    "2. Input a loan's attributes, calculate the pct difference between each attribute and the average among loans in the same ZIP, then take a weighted average of the pct differences to determine the risk of the loan going delinquent and the biggest contributing factors"
   ]
  },
  {
   "cell_type": "code",
   "execution_count": 70,
   "metadata": {},
   "outputs": [],
   "source": [
    "train_var = ['Original Interest Rate', 'Original UPB',\n",
    "       'Original Loan to Value Ratio (LTV)',\n",
    "       'Borrower Credit Score At Issuance', 'Debt-To-Income (DTI)']\n",
    "\n",
    "test_var = 'dlq_flag'\n",
    "X_train = df[train_var]\n",
    "y_train = df[test_var]\n",
    "\n",
    "# Create a Logistic Regression model\n",
    "model = LogisticRegression()\n",
    "\n",
    "# Train the model on the training data\n",
    "model = model.fit(X_train, y_train)"
   ]
  },
  {
   "cell_type": "code",
   "execution_count": 78,
   "metadata": {},
   "outputs": [],
   "source": [
    "weights = dict(zip(train_var, model.coef_[0]))"
   ]
  },
  {
   "cell_type": "code",
   "execution_count": 79,
   "metadata": {},
   "outputs": [
    {
     "data": {
      "text/plain": [
       "{'Original Interest Rate': 0.0009107327515811359,\n",
       " 'Original UPB': -5.756557287793569e-07,\n",
       " 'Original Loan to Value Ratio (LTV)': -0.020989459579410397,\n",
       " 'Borrower Credit Score At Issuance': -0.001414122982036496,\n",
       " 'Debt-To-Income (DTI)': 0.0353275235736391}"
      ]
     },
     "execution_count": 79,
     "metadata": {},
     "output_type": "execute_result"
    }
   ],
   "source": [
    "weights"
   ]
  },
  {
   "cell_type": "code",
   "execution_count": 82,
   "metadata": {},
   "outputs": [],
   "source": [
    "with open('../outputs/weights.pkl', 'wb') as file:\n",
    "    pickle.dump(weights, file)"
   ]
  },
  {
   "cell_type": "code",
   "execution_count": 5,
   "metadata": {},
   "outputs": [],
   "source": [
    "with open('../outputs/weights.pkl', 'rb') as file:\n",
    "    weights = pickle.load(file)"
   ]
  }
 ],
 "metadata": {
  "kernelspec": {
   "display_name": "ds209",
   "language": "python",
   "name": "ds209"
  },
  "language_info": {
   "codemirror_mode": {
    "name": "ipython",
    "version": 3
   },
   "file_extension": ".py",
   "mimetype": "text/x-python",
   "name": "python",
   "nbconvert_exporter": "python",
   "pygments_lexer": "ipython3",
   "version": "3.11.4"
  }
 },
 "nbformat": 4,
 "nbformat_minor": 2
}
