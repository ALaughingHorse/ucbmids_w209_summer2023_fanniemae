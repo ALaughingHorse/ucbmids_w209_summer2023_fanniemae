{
 "cells": [
  {
   "cell_type": "code",
   "execution_count": 1,
   "metadata": {},
   "outputs": [],
   "source": [
    "import pandas as pd\n",
    "import numpy as np\n",
    "import altair as alt\n",
    "from dlq_risk_calcuation import LoanDlqRisks\n",
    "from panel.interact import interact\n",
    "import streamlit as st\n",
    "import pickle"
   ]
  },
  {
   "cell_type": "code",
   "execution_count": 2,
   "metadata": {},
   "outputs": [],
   "source": [
    "from sqlalchemy import URL, create_engine, text\n",
    "alt.data_transformers.disable_max_rows()\n",
    "\n",
    "hostname = 'database-3.cluster-cgldqbnitk50.us-east-1.rds.amazonaws.com'\n",
    "username = 'postgres'\n",
    "password = 'cas_analytics'\n",
    "database = 'postgres'\n",
    "\n",
    "url_object = URL.create(\n",
    "    \"postgresql\",\n",
    "    username=username,\n",
    "    password=password,  # plain (unescaped) text\n",
    "    host=hostname,\n",
    "    database=database,\n",
    ")\n",
    "\n",
    "engine = create_engine(url_object)\n",
    "\n",
    "# load the data\n",
    "query = f\"\"\"\n",
    "WITH loan_stats AS (\n",
    "    SELECT \n",
    "        \"Loan Identifier\",\n",
    "        \"Original Interest Rate\",\n",
    "        \"Original UPB\",\n",
    "        \"Original Loan to Value Ratio (LTV)\",\n",
    "        \"Original Combined Loan to Value Ratio (CLTV)\",\n",
    "        \"Borrower Credit Score At Issuance\",\n",
    "        \"Debt-To-Income (DTI)\",\n",
    "        \"Zip Code Short\",\n",
    "        ROUND(\n",
    "            1.0*SUM(CASE WHEN \"Current Loan Delinquency Status\" > 0 THEN 1 ELSE 0 END)/COUNT(\"Monthly Reporting Period\"),\n",
    "        2\n",
    "        ) AS pct_dlq_marks\n",
    "    FROM Cas.ref  \n",
    "    GROUP BY \n",
    "        \"Loan Identifier\",\n",
    "        \"Original Interest Rate\",\n",
    "        \"Original UPB\",\n",
    "        \"Original Loan to Value Ratio (LTV)\",\n",
    "        \"Original Combined Loan to Value Ratio (CLTV)\",\n",
    "        \"Borrower Credit Score At Issuance\",\n",
    "        \"Debt-To-Income (DTI)\",\n",
    "        \"Zip Code Short\"\n",
    ")\n",
    "\n",
    "SELECT * FROM loan_stats\n",
    "\"\"\"\n",
    "\n",
    "df = pd.DataFrame(engine.connect().execute(text(query)))\n",
    "\n",
    "with open('../outputs/weights.pkl', 'rb') as file:\n",
    "    weights = pickle.load(file)"
   ]
  },
  {
   "cell_type": "code",
   "execution_count": 5,
   "metadata": {},
   "outputs": [
    {
     "name": "stdout",
     "output_type": "stream",
     "text": [
      "Too few samples for zipcode starting 244, using all data instead\n"
     ]
    },
    {
     "data": {
      "text/plain": [
       "DeltaGenerator()"
      ]
     },
     "execution_count": 5,
     "metadata": {},
     "output_type": "execute_result"
    }
   ],
   "source": [
    "interest_rate=st.number_input('What is the interest rate for this loan? Enter the percentage (e.g. 2% : 2.0)', value=3.5)\n",
    "upb=st.number_input('What is the total loan amount in dollars?', value=20000)\n",
    "ltv=st.number_input('What is the Loan-to-Value ratio? Enter percentage number (e.g. 45% -> 45)', value=80)\n",
    "credit_score=st.number_input('What is the FICO score for the main borrower?',value=780)\n",
    "dti=st.number_input('What is the Debt-To-Income ratio? Enter percentage (e.g. 20% -> 20)', value=22)\n",
    "zipcode=st.number_input('What is the short Zipcode where the property is localted at?', value=244)\n",
    "\n",
    "st.altair_chart(\n",
    "    LoanDlqRisks(\n",
    "        interest_rate,\n",
    "        upb,\n",
    "        ltv,\n",
    "        credit_score,\n",
    "        dti,\n",
    "        zipcode\n",
    "    ).get_relative_stats(ref_table=df)\n",
    "    .generate_risk_summary(weight_params=weights)\n",
    "    .diag_chart, \n",
    "    use_container_width=True\n",
    ")"
   ]
  },
  {
   "cell_type": "code",
   "execution_count": null,
   "metadata": {},
   "outputs": [],
   "source": []
  },
  {
   "cell_type": "code",
   "execution_count": null,
   "metadata": {},
   "outputs": [],
   "source": []
  }
 ],
 "metadata": {
  "kernelspec": {
   "display_name": "ds209",
   "language": "python",
   "name": "ds209"
  },
  "language_info": {
   "codemirror_mode": {
    "name": "ipython",
    "version": 3
   },
   "file_extension": ".py",
   "mimetype": "text/x-python",
   "name": "python",
   "nbconvert_exporter": "python",
   "pygments_lexer": "ipython3",
   "version": "3.11.4"
  }
 },
 "nbformat": 4,
 "nbformat_minor": 2
}
