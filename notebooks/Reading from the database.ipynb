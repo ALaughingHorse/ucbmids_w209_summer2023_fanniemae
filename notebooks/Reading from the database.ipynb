{
 "cells": [
  {
   "cell_type": "code",
   "execution_count": 1,
   "metadata": {},
   "outputs": [],
   "source": [
    "from sqlalchemy import URL, create_engine\n",
    "\n",
    "hostname = 'database-3.cluster-cgldqbnitk50.us-east-1.rds.amazonaws.com'\n",
    "username = 'postgres'\n",
    "password = 'cas_analytics'\n",
    "database = 'postgres'\n",
    "\n",
    "url_object = URL.create(\n",
    "    \"postgresql\",\n",
    "    username=username,\n",
    "    password=password,  # plain (unescaped) text\n",
    "    host=hostname,\n",
    "    database=database,\n",
    ")\n",
    "\n",
    "engine = create_engine(url_object)"
   ]
  },
  {
   "cell_type": "code",
   "execution_count": null,
   "metadata": {},
   "outputs": [],
   "source": []
  }
 ],
 "metadata": {
  "kernelspec": {
   "display_name": "ds209",
   "language": "python",
   "name": "ds209"
  },
  "language_info": {
   "codemirror_mode": {
    "name": "ipython",
    "version": 3
   },
   "file_extension": ".py",
   "mimetype": "text/x-python",
   "name": "python",
   "nbconvert_exporter": "python",
   "pygments_lexer": "ipython3",
   "version": "3.7.3"
  }
 },
 "nbformat": 4,
 "nbformat_minor": 2
}
